{
 "cells": [
  {
   "cell_type": "markdown",
   "metadata": {},
   "source": [
    "# Welcome to UofT-DataTrust Jupyter Notebook\n",
    "\n",
    "This notebook environment is integrated with your workflow canvas and automatically configured for data science.\n",
    "\n",
    "## 🚀 Environment Features\n",
    "\n",
    "- **GPU Detection**: Automatic CUDA/GPU detection and configuration\n",
    "- **CPU Optimization**: Multi-threading automatically configured\n",
    "- **Pre-loaded Libraries**: Common data science libraries ready to use\n",
    "- **Local Resources**: Full access to your CPU and GPU power\n",
    "\n",
    "## 📦 Pre-loaded Libraries\n",
    "\n",
    "The following libraries are automatically imported:\n",
    "- `numpy` as `np`\n",
    "- `pandas` as `pd`\n",
    "- `matplotlib.pyplot` as `plt`\n",
    "- `seaborn` as `sns`\n",
    "- `torch` (if available)\n"
   ]
  },
  {
   "cell_type": "code",
   "execution_count": null,
   "metadata": {},
   "source": [
    "# Run the startup script to configure your environment\n",
    "exec(open('startup.py').read())"
   ],
   "outputs": []
  },
  {
   "cell_type": "code",
   "execution_count": null,
   "metadata": {},
   "source": [
    "# Test your environment\n",
    "print(\"Testing data science environment...\")\n",
    "print(f\"NumPy version: {np.__version__}\")\n",
    "print(f\"Pandas version: {pd.__version__}\")\n",
    "print(f\"Matplotlib version: {plt.matplotlib.__version__}\")\n",
    "\n",
    "# Test GPU if available\n",
    "try:\n",
    "    print(f\"PyTorch version: {torch.__version__}\")\n",
    "    print(f\"CUDA available: {torch.cuda.is_available()}\")\n",
    "    if torch.cuda.is_available():\n",
    "        print(f\"CUDA device: {torch.cuda.get_device_name(0)}\")\n",
    "except:\n",
    "    print(\"PyTorch not available\")"
   ],
   "outputs": []
  },
  {
   "cell_type": "code",
   "execution_count": null,
   "metadata": {},
   "source": [
    "# Quick data science example\n",
    "import numpy as np\n",
    "import matplotlib.pyplot as plt\n",
    "\n",
    "# Generate sample data\n",
    "x = np.linspace(0, 10, 100)\n",
    "y = np.sin(x) + np.random.normal(0, 0.1, 100)\n",
    "\n",
    "# Create plot\n",
    "plt.figure(figsize=(10, 6))\n",
    "plt.plot(x, y, 'b-', alpha=0.7, label='Noisy sine wave')\n",
    "plt.plot(x, np.sin(x), 'r--', label='True sine wave')\n",
    "plt.xlabel('X')\n",
    "plt.ylabel('Y')\n",
    "plt.title('Welcome to UofT-DataTrust Jupyter Environment!')\n",
    "plt.legend()\n",
    "plt.grid(True, alpha=0.3)\n",
    "plt.show()\n",
    "\n",
    "print(\"🎉 Your notebook environment is working perfectly!\")"
   ],
   "outputs": []
  }
 ],
 "metadata": {
  "kernelspec": {
   "display_name": "Python 3",
   "language": "python",
   "name": "python3"
  },
  "language_info": {
   "codemirror_mode": {
    "name": "ipython",
    "version": 3
   },
   "file_extension": ".py",
   "mimetype": "text/x-python",
   "name": "python",
   "nbconvert_exporter": "python",
   "pygments_lexer": "ipython3",
   "version": "3.8.0"
  }
 },
 "nbformat": 4,
 "nbformat_minor": 4
}